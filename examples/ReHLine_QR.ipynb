{
  "nbformat": 4,
  "nbformat_minor": 0,
  "metadata": {
    "colab": {
      "provenance": []
    },
    "kernelspec": {
      "name": "python3",
      "display_name": "Python 3"
    },
    "language_info": {
      "name": "python"
    }
  },
  "cells": [
    {
      "cell_type": "markdown",
      "source": [
        "## **Example: Solving Quantile Regression via ReHLine**\n",
        "\n",
        "[![Slides](https://img.shields.io/badge/🦌-ReHLine-blueviolet)](https://rehline-python.readthedocs.io/en/latest/)\n",
        "[![Open In Colab](https://colab.research.google.com/assets/colab-badge.svg)](https://colab.research.google.com/drive/1LwatjwjnMSB97eLVyuOiUY3sl3A3Ie__?usp=sharing)"
      ],
      "metadata": {
        "id": "l-wsw7CJor38"
      }
    },
    {
      "cell_type": "code",
      "execution_count": null,
      "metadata": {
        "colab": {
          "base_uri": "https://localhost:8080/"
        },
        "id": "adidty-mclLB",
        "outputId": "91d57f24-91fe-4809-ec3d-bfbb5a9346d2"
      },
      "outputs": [
        {
          "output_type": "stream",
          "name": "stdout",
          "text": [
            "Collecting rehline\n",
            "  Downloading rehline-0.0.3-cp310-cp310-manylinux_2_17_x86_64.manylinux2014_x86_64.whl (147 kB)\n",
            "\u001b[2K     \u001b[90m━━━━━━━━━━━━━━━━━━━━━━━━━━━━━━━━━━━━━━━━\u001b[0m \u001b[32m147.1/147.1 kB\u001b[0m \u001b[31m2.1 MB/s\u001b[0m eta \u001b[36m0:00:00\u001b[0m\n",
            "\u001b[?25hRequirement already satisfied: requests>=2.27.0 in /usr/local/lib/python3.10/dist-packages (from rehline) (2.31.0)\n",
            "Collecting pybind11>=2.11.1 (from rehline)\n",
            "  Downloading pybind11-2.13.1-py3-none-any.whl (238 kB)\n",
            "\u001b[2K     \u001b[90m━━━━━━━━━━━━━━━━━━━━━━━━━━━━━━━━━━━━━━━━\u001b[0m \u001b[32m238.8/238.8 kB\u001b[0m \u001b[31m13.0 MB/s\u001b[0m eta \u001b[36m0:00:00\u001b[0m\n",
            "\u001b[?25hRequirement already satisfied: numpy>=1.23.5 in /usr/local/lib/python3.10/dist-packages (from rehline) (1.25.2)\n",
            "Requirement already satisfied: scipy>=1.11.4 in /usr/local/lib/python3.10/dist-packages (from rehline) (1.11.4)\n",
            "Requirement already satisfied: scikit-learn>=1.2.2 in /usr/local/lib/python3.10/dist-packages (from rehline) (1.2.2)\n",
            "Requirement already satisfied: charset-normalizer<4,>=2 in /usr/local/lib/python3.10/dist-packages (from requests>=2.27.0->rehline) (3.3.2)\n",
            "Requirement already satisfied: idna<4,>=2.5 in /usr/local/lib/python3.10/dist-packages (from requests>=2.27.0->rehline) (3.7)\n",
            "Requirement already satisfied: urllib3<3,>=1.21.1 in /usr/local/lib/python3.10/dist-packages (from requests>=2.27.0->rehline) (2.0.7)\n",
            "Requirement already satisfied: certifi>=2017.4.17 in /usr/local/lib/python3.10/dist-packages (from requests>=2.27.0->rehline) (2024.6.2)\n",
            "Requirement already satisfied: joblib>=1.1.1 in /usr/local/lib/python3.10/dist-packages (from scikit-learn>=1.2.2->rehline) (1.4.2)\n",
            "Requirement already satisfied: threadpoolctl>=2.0.0 in /usr/local/lib/python3.10/dist-packages (from scikit-learn>=1.2.2->rehline) (3.5.0)\n",
            "Installing collected packages: pybind11, rehline\n",
            "Successfully installed pybind11-2.13.1 rehline-0.0.3\n"
          ]
        }
      ],
      "source": [
        "!pip install rehline"
      ]
    },
    {
      "cell_type": "code",
      "source": [
        "## simulate data\n",
        "from sklearn.datasets import make_regression\n",
        "from sklearn.preprocessing import StandardScaler\n",
        "import numpy as np\n",
        "\n",
        "scaler = StandardScaler()\n",
        "\n",
        "n, d = 10000, 5\n",
        "X, y = make_regression(n_samples=n, n_features=d, noise=1.0)\n",
        "X = scaler.fit_transform(X)\n",
        "y = y/y.std()"
      ],
      "metadata": {
        "id": "WYZq1rWWctNl"
      },
      "execution_count": null,
      "outputs": []
    },
    {
      "cell_type": "code",
      "source": [
        "from rehline import ReHLine\n",
        "\n",
        "qt = [0.25, 0.5, 0.75]\n",
        "\n",
        "clf = ReHLine(C=1.0/n)\n",
        "X_fake = clf.make_ReLHLoss(X=X, y=y, loss={'name':'QR', 'qt':qt})\n",
        "clf.fit(X_fake)\n",
        "\n",
        "## the first d params are the linear coefficients\n",
        "## and the last 3 params are the quantile-specific intercept\n",
        "clf.coef_"
      ],
      "metadata": {
        "colab": {
          "base_uri": "https://localhost:8080/"
        },
        "id": "tWpmFfCxdM7K",
        "outputId": "3fb01216-8ab6-4411-c40e-d5d1e133cdea"
      },
      "execution_count": null,
      "outputs": [
        {
          "output_type": "execute_result",
          "data": {
            "text/plain": [
              "array([ 0.59688881,  0.39743301,  0.17675816,  0.45894896,  0.47806579,\n",
              "       -0.0134518 , -0.00152496,  0.01026677])"
            ]
          },
          "metadata": {},
          "execution_count": 47
        }
      ]
    },
    {
      "cell_type": "code",
      "source": [
        "score = [X.dot(clf.coef_[:d]) + clf.coef_[d+l] for l in range(len(qt))]\n",
        "\n",
        "## report Qs for some samples\n",
        "X_sample, y_sample = X[:5], y[:5]\n",
        "q_sample = [X_sample.dot(clf.coef_[:d]) + clf.coef_[d+l] for l in range(len(qt))]\n",
        "\n",
        "q_sample = np.array(q_sample).T\n",
        "\n",
        "print('fitted quantiles: %s \\n' %qt)\n",
        "print(q_sample)\n",
        "print('\\n Real Y: \\n')\n",
        "print(y_sample[:,np.newaxis])"
      ],
      "metadata": {
        "colab": {
          "base_uri": "https://localhost:8080/"
        },
        "id": "hFqz2fI-fAr9",
        "outputId": "983ee042-1729-4de2-f9d7-74824d7894fd"
      },
      "execution_count": null,
      "outputs": [
        {
          "output_type": "stream",
          "name": "stdout",
          "text": [
            "fitted quantiles: [0.25, 0.5, 0.75] \n",
            "\n",
            "[[-0.20078214 -0.18885531 -0.17706358]\n",
            " [-2.48210771 -2.47018088 -2.45838915]\n",
            " [-1.31540194 -1.30347511 -1.29168338]\n",
            " [-2.70665164 -2.69472481 -2.68293308]\n",
            " [ 0.37165816  0.38358499  0.39537672]]\n",
            "\n",
            " Real Y: \n",
            "\n",
            "[[-0.19786913]\n",
            " [-2.51954039]\n",
            " [-1.33318935]\n",
            " [-2.74956754]\n",
            " [ 0.39217369]]\n"
          ]
        }
      ]
    }
  ]
}