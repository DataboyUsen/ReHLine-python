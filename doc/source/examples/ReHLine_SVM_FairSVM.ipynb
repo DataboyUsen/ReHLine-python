{
  "nbformat": 4,
  "nbformat_minor": 0,
  "metadata": {
    "colab": {
      "provenance": []
    },
    "kernelspec": {
      "name": "python3",
      "display_name": "Python 3"
    },
    "language_info": {
      "name": "python"
    }
  },
  "cells": [
    {
      "cell_type": "markdown",
      "source": [
        "# **Example: solving SVM and FairSVM via ReHLine**\n",
        "\n",
        "[![Slides](https://img.shields.io/badge/🦌-ReHLine-blueviolet)](https://rehline-python.readthedocs.io/en/latest/)\n",
        "[![Open In Colab](https://colab.research.google.com/assets/colab-badge.svg)](https://colab.research.google.com/drive/1f_7t1t6FNxAooQOmpyhHCOVq0IKgMxe-?usp=sharing)"
      ],
      "metadata": {
        "id": "hK6foc_zTi1U"
      }
    },
    {
      "cell_type": "code",
      "execution_count": null,
      "metadata": {
        "colab": {
          "base_uri": "https://localhost:8080/"
        },
        "id": "gYwC0MP9Cpze",
        "outputId": "0eb3aed9-82dc-4dff-be33-232ee9c72deb"
      },
      "outputs": [
        {
          "output_type": "stream",
          "name": "stdout",
          "text": [
            "Collecting rehline\n",
            "  Downloading rehline-0.0.3-cp310-cp310-manylinux_2_17_x86_64.manylinux2014_x86_64.whl (147 kB)\n",
            "\u001b[2K     \u001b[90m━━━━━━━━━━━━━━━━━━━━━━━━━━━━━━━━━━━━━━━━\u001b[0m \u001b[32m147.1/147.1 kB\u001b[0m \u001b[31m2.3 MB/s\u001b[0m eta \u001b[36m0:00:00\u001b[0m\n",
            "\u001b[?25hRequirement already satisfied: requests>=2.27.0 in /usr/local/lib/python3.10/dist-packages (from rehline) (2.31.0)\n",
            "Collecting pybind11>=2.11.1 (from rehline)\n",
            "  Downloading pybind11-2.13.1-py3-none-any.whl (238 kB)\n",
            "\u001b[2K     \u001b[90m━━━━━━━━━━━━━━━━━━━━━━━━━━━━━━━━━━━━━━━━\u001b[0m \u001b[32m238.8/238.8 kB\u001b[0m \u001b[31m7.5 MB/s\u001b[0m eta \u001b[36m0:00:00\u001b[0m\n",
            "\u001b[?25hRequirement already satisfied: numpy>=1.23.5 in /usr/local/lib/python3.10/dist-packages (from rehline) (1.25.2)\n",
            "Requirement already satisfied: scipy>=1.11.4 in /usr/local/lib/python3.10/dist-packages (from rehline) (1.11.4)\n",
            "Requirement already satisfied: scikit-learn>=1.2.2 in /usr/local/lib/python3.10/dist-packages (from rehline) (1.2.2)\n",
            "Requirement already satisfied: charset-normalizer<4,>=2 in /usr/local/lib/python3.10/dist-packages (from requests>=2.27.0->rehline) (3.3.2)\n",
            "Requirement already satisfied: idna<4,>=2.5 in /usr/local/lib/python3.10/dist-packages (from requests>=2.27.0->rehline) (3.7)\n",
            "Requirement already satisfied: urllib3<3,>=1.21.1 in /usr/local/lib/python3.10/dist-packages (from requests>=2.27.0->rehline) (2.0.7)\n",
            "Requirement already satisfied: certifi>=2017.4.17 in /usr/local/lib/python3.10/dist-packages (from requests>=2.27.0->rehline) (2024.6.2)\n",
            "Requirement already satisfied: joblib>=1.1.1 in /usr/local/lib/python3.10/dist-packages (from scikit-learn>=1.2.2->rehline) (1.4.2)\n",
            "Requirement already satisfied: threadpoolctl>=2.0.0 in /usr/local/lib/python3.10/dist-packages (from scikit-learn>=1.2.2->rehline) (3.5.0)\n",
            "Installing collected packages: pybind11, rehline\n",
            "Successfully installed pybind11-2.13.1 rehline-0.0.3\n"
          ]
        }
      ],
      "source": [
        "## install package\n",
        "!pip install rehline"
      ]
    },
    {
      "cell_type": "code",
      "source": [
        "## simulate data\n",
        "import rehline\n",
        "from rehline import ReHLine\n",
        "import numpy as np\n",
        "\n",
        "n, d = 100000, 5\n",
        "\n",
        "X, y, X_sen = rehline.make_fair_classification(n_samples=n,\n",
        "                                                n_features=d,\n",
        "                                                ind_sensitive=0)"
      ],
      "metadata": {
        "id": "BELfW8bYE_bp"
      },
      "execution_count": null,
      "outputs": []
    },
    {
      "cell_type": "code",
      "source": [
        "## fitting SVMs\n",
        "clf = ReHLine(loss={'name': 'svm'}, C=1./n)\n",
        "\n",
        "clf.make_ReLHLoss(X=X, y=y, loss={'name': 'svm'})\n",
        "\n",
        "clf.fit(X=X)"
      ],
      "metadata": {
        "id": "gaMe2UYSFSFO"
      },
      "execution_count": null,
      "outputs": []
    },
    {
      "cell_type": "code",
      "source": [
        "## report performance and sensitive correlation\n",
        "score = X @ clf.coef_\n",
        "\n",
        "print('Classification Acc: %.3f' %(len(score[score*y > 0]) / len(score)))\n",
        "print('Sensitive Correlation: %.3f' %( score.dot(X_sen) / n ))"
      ],
      "metadata": {
        "colab": {
          "base_uri": "https://localhost:8080/"
        },
        "id": "8tjCbX4OGnKr",
        "outputId": "d4cb9e3b-1b30-4583-9843-b137958e8980"
      },
      "execution_count": null,
      "outputs": [
        {
          "output_type": "stream",
          "name": "stdout",
          "text": [
            "Classification Acc: 0.953\n",
            "Sensitive Correlation: 0.898\n"
          ]
        }
      ]
    },
    {
      "cell_type": "code",
      "source": [
        "## fitting Fair-SVMs\n",
        "\n",
        "rho = 0.01\n",
        "\n",
        "clf_fair = ReHLine(loss={'name': 'svm'}, C=1./n)\n",
        "\n",
        "clf_fair.make_ReLHLoss(X=X, y=y, loss={'name': 'svm'})\n",
        "A = np.repeat([X_sen @ X], repeats=[2], axis=0) / n\n",
        "A[1] = -A[1]\n",
        "b = np.array([rho, rho])\n",
        "\n",
        "clf_fair.A, clf_fair.b = A, b\n",
        "clf_fair.fit(X=X)"
      ],
      "metadata": {
        "id": "uSU-t7sEIVY_"
      },
      "execution_count": null,
      "outputs": []
    },
    {
      "cell_type": "code",
      "source": [
        "## report performance and sensitive correlation\n",
        "\n",
        "score = X @ clf_fair.coef_\n",
        "\n",
        "print('Classification Acc: %.3f' %(len(score[score*y > 0]) / len(score)))\n",
        "print('Sensitive Correlation: %.3f' %( score.dot(X_sen) / n ))"
      ],
      "metadata": {
        "colab": {
          "base_uri": "https://localhost:8080/"
        },
        "id": "OXx4TwVYI6b6",
        "outputId": "279e1c88-cae4-4cf5-f774-25ff9bc63b1e"
      },
      "execution_count": null,
      "outputs": [
        {
          "output_type": "stream",
          "name": "stdout",
          "text": [
            "Classification Acc: 0.574\n",
            "Sensitive Correlation: 0.010\n"
          ]
        }
      ]
    }
  ]
}